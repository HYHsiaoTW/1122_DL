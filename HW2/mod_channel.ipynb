{
 "cells": [
  {
   "cell_type": "code",
   "execution_count": 1,
   "id": "9c862e9b",
   "metadata": {},
   "outputs": [
    {
     "name": "stdout",
     "output_type": "stream",
     "text": [
      "Augmented file saved to train_VC.txt\n"
     ]
    }
   ],
   "source": [
    "import itertools\n",
    "import pandas as pd\n",
    "\n",
    "# Load the data\n",
    "input_file = 'train_orig.txt'\n",
    "output_file = 'train_VC.txt'\n",
    "\n",
    "# Read the file into a DataFrame\n",
    "df = pd.read_csv(input_file, sep=\" \", header=None, names=['Path', 'Label'])\n",
    "\n",
    "# Define the combinations\n",
    "combinations = ['R', 'G', 'B', 'RG', 'RB', 'GB', 'RGB', 'W']\n",
    "\n",
    "# Repeat each row 8 times\n",
    "df_expanded = pd.DataFrame(itertools.chain.from_iterable(itertools.repeat(row, 8) for row in df.itertuples(index=False)), columns=df.columns)\n",
    "\n",
    "# Calculate the number of repeats for the combinations to match the length of the expanded DataFrame\n",
    "repeat_count = len(df_expanded) // len(combinations)\n",
    "df_expanded['Combination'] = combinations * repeat_count\n",
    "\n",
    "# Save to the output file\n",
    "df_expanded.to_csv(output_file, sep=\" \", index=False, header=False)\n",
    "\n",
    "print(f\"Augmented file saved to {output_file}\")\n"
   ]
  },
  {
   "cell_type": "code",
   "execution_count": 2,
   "id": "16babb45",
   "metadata": {},
   "outputs": [
    {
     "name": "stdout",
     "output_type": "stream",
     "text": [
      "Augmented file saved to test_VC.txt\n"
     ]
    }
   ],
   "source": [
    "import itertools\n",
    "import pandas as pd\n",
    "\n",
    "# Load the data\n",
    "input_file = 'test_orig.txt'\n",
    "output_file = 'test_VC.txt'\n",
    "\n",
    "# Read the file into a DataFrame\n",
    "df = pd.read_csv(input_file, sep=\" \", header=None, names=['Path', 'Label'])\n",
    "\n",
    "# Define the combinations\n",
    "combinations = ['R', 'G', 'B', 'RG', 'RB', 'GB', 'RGB', 'W']\n",
    "\n",
    "# Repeat each row 8 times\n",
    "df_expanded = pd.DataFrame(itertools.chain.from_iterable(itertools.repeat(row, 8) for row in df.itertuples(index=False)), columns=df.columns)\n",
    "\n",
    "# Calculate the number of repeats for the combinations to match the length of the expanded DataFrame\n",
    "repeat_count = len(df_expanded) // len(combinations)\n",
    "df_expanded['Combination'] = combinations * repeat_count\n",
    "\n",
    "# Save to the output file\n",
    "df_expanded.to_csv(output_file, sep=\" \", index=False, header=False)\n",
    "\n",
    "print(f\"Augmented file saved to {output_file}\")\n"
   ]
  },
  {
   "cell_type": "code",
   "execution_count": 3,
   "id": "a3192cdc",
   "metadata": {},
   "outputs": [
    {
     "name": "stdout",
     "output_type": "stream",
     "text": [
      "Augmented file saved to val_VC.txt\n"
     ]
    }
   ],
   "source": [
    "import itertools\n",
    "import pandas as pd\n",
    "\n",
    "# Load the data\n",
    "input_file = 'val_orig.txt'\n",
    "output_file = 'val_VC.txt'\n",
    "\n",
    "# Read the file into a DataFrame\n",
    "df = pd.read_csv(input_file, sep=\" \", header=None, names=['Path', 'Label'])\n",
    "\n",
    "# Define the combinations\n",
    "combinations = ['R', 'G', 'B', 'RG', 'RB', 'GB', 'RGB', 'W']\n",
    "\n",
    "# Repeat each row 8 times\n",
    "df_expanded = pd.DataFrame(itertools.chain.from_iterable(itertools.repeat(row, 8) for row in df.itertuples(index=False)), columns=df.columns)\n",
    "\n",
    "# Calculate the number of repeats for the combinations to match the length of the expanded DataFrame\n",
    "repeat_count = len(df_expanded) // len(combinations)\n",
    "df_expanded['Combination'] = combinations * repeat_count\n",
    "\n",
    "# Save to the output file\n",
    "df_expanded.to_csv(output_file, sep=\" \", index=False, header=False)\n",
    "\n",
    "print(f\"Augmented file saved to {output_file}\")\n"
   ]
  },
  {
   "cell_type": "code",
   "execution_count": null,
   "id": "49520c6b",
   "metadata": {},
   "outputs": [],
   "source": []
  }
 ],
 "metadata": {
  "kernelspec": {
   "display_name": "DL_240319",
   "language": "python",
   "name": "dl_240319"
  },
  "language_info": {
   "codemirror_mode": {
    "name": "ipython",
    "version": 3
   },
   "file_extension": ".py",
   "mimetype": "text/x-python",
   "name": "python",
   "nbconvert_exporter": "python",
   "pygments_lexer": "ipython3",
   "version": "3.11.9"
  }
 },
 "nbformat": 4,
 "nbformat_minor": 5
}
